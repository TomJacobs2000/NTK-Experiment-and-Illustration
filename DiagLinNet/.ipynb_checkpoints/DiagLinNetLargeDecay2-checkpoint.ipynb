{
 "cells": [
  {
   "cell_type": "code",
   "execution_count": 266,
   "metadata": {},
   "outputs": [],
   "source": [
    "from tqdm import tqdm\n",
    "import numpy as np\n",
    "import  matplotlib.pyplot as plt \n",
    "plt.style.use('classic')\n",
    "np.random.seed(1) "
   ]
  },
  {
   "cell_type": "code",
   "execution_count": 267,
   "metadata": {},
   "outputs": [],
   "source": [
    "n = 40 # Amount of data points\n",
    "d = 100 # dimension of the data\n",
    "test = 1000\n",
    "alpha = 0.01\n",
    "# Sample x iid from normal dist\n",
    "\n",
    "x = np.random.normal(0,1, (n,d))\n",
    "xtest = np.random.normal(0,1, (test,d))\n",
    "# Generate B^* st 0 norm is 5 (there are 5 non zero elements)\n",
    "Breal = np.zeros(d)\n",
    "Breal[ :5] = np.random.normal(1,1, 5)\n",
    "# Make y from x and B^*\n",
    "y = np.inner(Breal,x)\n",
    "ytest = np.inner(Breal,xtest)\n"
   ]
  },
  {
   "cell_type": "code",
   "execution_count": 268,
   "metadata": {},
   "outputs": [],
   "source": [
    "# Initialise training B with scale alpha\n",
    "wplus = np.ones(d)*alpha\n",
    "wmin = wplus"
   ]
  },
  {
   "cell_type": "code",
   "execution_count": 269,
   "metadata": {},
   "outputs": [],
   "source": [
    "def Backward(x, y, B, gamma, wplus, wmin):\n",
    "    '''Backward step for SGD with Batchsize one on Diagonal Linear Networks with quadratic parameterization.'''\n",
    "    \n",
    "    i = np.random.randint(0,n) # 1\n",
    "    gradL = np.inner(wplus*wplus - wmin*wmin - B,x[i]) # 1\n",
    "        \n",
    "    wplus = wplus - gamma * gradL * x[i]*wplus\n",
    "    wmin = wmin + gamma * gradL * x[i]* wmin\n",
    "    \n",
    "    return(wplus, wmin)"
   ]
  },
  {
   "cell_type": "code",
   "execution_count": 270,
   "metadata": {},
   "outputs": [],
   "source": [
    "def Forward(x, y, wplus, wmin,n):\n",
    "    '''Forward step for Diagonal Linear Networks with quadratic parameterization.'''\n",
    "    \n",
    "    Loss = np.linalg.norm(np.inner(wplus*wplus - wmin*wmin, x) - y)**2/(4*n)\n",
    "    \n",
    "    return(Loss)"
   ]
  },
  {
   "cell_type": "code",
   "execution_count": 271,
   "metadata": {},
   "outputs": [
    {
     "name": "stdout",
     "output_type": "stream",
     "text": [
      "0.008710376382725534\n"
     ]
    }
   ],
   "source": [
    "def MaxLearningRate(alpha, x, n, p, B):\n",
    "    '''Determining the order of the learning rate for a given p as in the theorem by Pesme.''' \n",
    "    Bl1 = np.linalg.norm(B,ord = 1)\n",
    "    alphal2 = np.linalg.norm(alpha)\n",
    "    alpha2max = np.max(alpha**2)\n",
    "    \n",
    "    a = Bl1* np.log(Bl1/alpha2max)\n",
    "    coef = np.max([a, alphal2])\n",
    "\n",
    "    lambdamax = np.linalg.eigh(np.dot(np.transpose(x),x/n))[0][-1]\n",
    "    order = np.log(4/p)*lambdamax*coef\n",
    "    \n",
    "    gammaOrder = 1/order\n",
    "    print(gammaOrder)\n",
    "\n",
    "p = 0.5\n",
    "MaxL = MaxLearningRate(alpha, x, n, p, B)"
   ]
  },
  {
   "cell_type": "code",
   "execution_count": 274,
   "metadata": {},
   "outputs": [
    {
     "name": "stdout",
     "output_type": "stream",
     "text": [
      "The learning rate is of order:None if we want to guarantee a convergence probability of 0.5\n"
     ]
    }
   ],
   "source": [
    "print(f\"The learning rate is of order:{MaxL} if we want to guarantee a convergence probability of {p}\")"
   ]
  },
  {
   "cell_type": "code",
   "execution_count": 275,
   "metadata": {},
   "outputs": [],
   "source": [
    "# Setup training\n",
    "def train(wplus, wmin, x, y, Breal, xtest, ytest, steps, gamma, n, test, seed):\n",
    "    np.random.seed(seed)\n",
    "    Loss = []\n",
    "    TestLoss = []\n",
    "    \n",
    "    for j in range(steps):\n",
    "        \n",
    "        L = Forward(x, y, wplus, wmin,n)\n",
    "        Ltest = Forward(xtest, ytest, wplus, wmin,test)\n",
    "        \n",
    "        Loss.append(L)\n",
    "        if L > 1000000:\n",
    "            return(wplus, wmin, Loss, TestLoss)\n",
    "        TestLoss.append(Ltest)\n",
    "        \n",
    "        wplus, wmin = Backward(x, y, Breal, gamma, wplus, wmin)\n",
    "        \n",
    "    \n",
    "    return(wplus, wmin, Loss, TestLoss)"
   ]
  },
  {
   "cell_type": "code",
   "execution_count": null,
   "metadata": {},
   "outputs": [],
   "source": []
  },
  {
   "cell_type": "code",
   "execution_count": 276,
   "metadata": {},
   "outputs": [
    {
     "name": "stderr",
     "output_type": "stream",
     "text": [
      "  0%|          | 0/4 [00:00<?, ?it/s]\n",
      "  0%|          | 0/10 [00:00<?, ?it/s]\u001b[A\n",
      " 10%|█         | 1/10 [00:06<00:59,  6.58s/it]\u001b[A\n",
      " 20%|██        | 2/10 [00:13<00:52,  6.59s/it]\u001b[A\n",
      " 30%|███       | 3/10 [00:19<00:46,  6.60s/it]\u001b[A\n",
      " 40%|████      | 4/10 [00:26<00:39,  6.61s/it]\u001b[A\n",
      " 50%|█████     | 5/10 [00:33<00:33,  6.61s/it]\u001b[A\n",
      " 60%|██████    | 6/10 [00:39<00:26,  6.61s/it]\u001b[A\n",
      " 70%|███████   | 7/10 [00:46<00:19,  6.64s/it]\u001b[A\n",
      " 80%|████████  | 8/10 [00:53<00:13,  6.64s/it]\u001b[A\n",
      " 90%|█████████ | 9/10 [00:59<00:06,  6.68s/it]\u001b[A\n",
      "100%|██████████| 10/10 [01:06<00:00,  6.63s/it]\u001b[A\n",
      " 25%|██▌       | 1/4 [01:06<03:19, 66.34s/it]\n",
      "  0%|          | 0/10 [00:00<?, ?it/s]\u001b[A\n",
      " 10%|█         | 1/10 [00:06<00:58,  6.55s/it]\u001b[A\n",
      " 20%|██        | 2/10 [00:13<00:52,  6.57s/it]\u001b[A\n",
      " 30%|███       | 3/10 [00:19<00:46,  6.58s/it]\u001b[A\n",
      " 40%|████      | 4/10 [00:26<00:39,  6.62s/it]\u001b[A\n",
      " 50%|█████     | 5/10 [00:33<00:32,  6.59s/it]\u001b[A\n",
      " 60%|██████    | 6/10 [00:39<00:26,  6.62s/it]\u001b[A\n",
      " 70%|███████   | 7/10 [00:46<00:19,  6.61s/it]\u001b[A\n",
      " 80%|████████  | 8/10 [00:52<00:13,  6.58s/it]\u001b[A\n",
      " 90%|█████████ | 9/10 [00:59<00:06,  6.63s/it]\u001b[A\n",
      "100%|██████████| 10/10 [01:06<00:00,  6.61s/it]\u001b[A\n",
      " 50%|█████     | 2/4 [02:12<02:12, 66.27s/it]\n",
      "  0%|          | 0/10 [00:00<?, ?it/s]\u001b[A\n",
      " 10%|█         | 1/10 [00:06<01:00,  6.71s/it]\u001b[A\n",
      " 20%|██        | 2/10 [00:13<00:53,  6.69s/it]\u001b[A\n",
      " 30%|███       | 3/10 [00:19<00:46,  6.65s/it]\u001b[A\n",
      " 40%|████      | 4/10 [00:26<00:39,  6.66s/it]\u001b[A\n",
      " 50%|█████     | 5/10 [00:33<00:33,  6.73s/it]\u001b[A\n",
      " 60%|██████    | 6/10 [00:40<00:26,  6.73s/it]\u001b[A\n",
      " 70%|███████   | 7/10 [00:46<00:20,  6.71s/it]\u001b[A\n",
      " 80%|████████  | 8/10 [00:53<00:13,  6.70s/it]\u001b[A\n",
      " 90%|█████████ | 9/10 [01:00<00:06,  6.68s/it]\u001b[A\n",
      "100%|██████████| 10/10 [01:06<00:00,  6.69s/it]\u001b[A\n",
      " 75%|███████▌  | 3/4 [03:19<01:06, 66.48s/it]\n",
      "  0%|          | 0/10 [00:00<?, ?it/s]\u001b[A\n",
      " 10%|█         | 1/10 [00:07<01:07,  7.45s/it]\u001b[A\n",
      " 20%|██        | 2/10 [00:14<00:57,  7.23s/it]\u001b[A\n",
      " 30%|███       | 3/10 [00:20<00:49,  7.07s/it]\u001b[A\n",
      " 40%|████      | 4/10 [00:27<00:41,  6.96s/it]\u001b[A\n",
      " 50%|█████     | 5/10 [00:34<00:34,  6.91s/it]\u001b[A\n",
      " 60%|██████    | 6/10 [00:41<00:27,  6.84s/it]\u001b[A\n",
      " 70%|███████   | 7/10 [00:47<00:20,  6.88s/it]\u001b[A\n",
      " 80%|████████  | 8/10 [00:56<00:14,  7.43s/it]\u001b[A\n",
      " 90%|█████████ | 9/10 [01:04<00:07,  7.56s/it]\u001b[A\n",
      "100%|██████████| 10/10 [01:11<00:00,  7.18s/it]\u001b[A\n",
      "100%|██████████| 4/4 [04:31<00:00, 67.81s/it]\n"
     ]
    }
   ],
   "source": [
    "itterations = 10\n",
    "steps = 100000\n",
    "gamma = [0.001,0.002,0.004, 0.008]\n",
    "seed = range(1, itterations + 1)\n",
    "FinalLoss = [[],[],[],[]]\n",
    "FinalTestLoss = [[],[],[],[]]\n",
    "for j in tqdm(range(len(gamma))):\n",
    "    for i in tqdm(range(itterations)):\n",
    "        wp, wm, Loss, TestLoss = train(wplus, wmin, x, y, Breal, xtest, ytest, steps, gamma[j], n, test, seed[i])\n",
    "        FinalLoss[j].append(Loss[-1])\n",
    "        FinalTestLoss[j].append(TestLoss[-1])"
   ]
  },
  {
   "cell_type": "code",
   "execution_count": 277,
   "metadata": {},
   "outputs": [
    {
     "name": "stdout",
     "output_type": "stream",
     "text": [
      "0.008837306788245835\n",
      "0.005486730975678826\n",
      "0.003818067806108201\n",
      "0.0028071084431192514\n",
      "0.008661263421638303 0.009015248971930923\n",
      "0.005428080348098101 0.005534790756937446\n",
      "0.0037648915353533504 0.0038587875671561543\n",
      "0.002754426794739602 0.0028548421687029707\n"
     ]
    }
   ],
   "source": [
    "for j in range(len(gamma)):\n",
    "    print(np.mean(FinalTestLoss[j]))\n",
    "    \n",
    "for j in range(len(gamma)):\n",
    "    print(np.min(FinalTestLoss[j]),np.max(FinalTestLoss[j]))"
   ]
  },
  {
   "cell_type": "code",
   "execution_count": null,
   "metadata": {},
   "outputs": [],
   "source": []
  },
  {
   "cell_type": "code",
   "execution_count": null,
   "metadata": {},
   "outputs": [],
   "source": []
  },
  {
   "cell_type": "code",
   "execution_count": 236,
   "metadata": {},
   "outputs": [
    {
     "name": "stderr",
     "output_type": "stream",
     "text": [
      "100%|██████████| 10/10 [02:44<00:00, 16.49s/it]\n",
      "100%|██████████| 10/10 [02:09<00:00, 12.93s/it]\n",
      "100%|██████████| 10/10 [02:46<00:00, 16.61s/it]\n",
      "100%|██████████| 10/10 [00:00<00:00, 179.06it/s]\n"
     ]
    }
   ],
   "source": [
    "itterations = 10\n",
    "steps = 100000\n",
    "gamma = [0.079,0.08, 0.081, 0.82]\n",
    "seed = range(1, itterations + 1)\n",
    "FinalLoss2 = [[],[],[],[]]\n",
    "FinalTestLoss2 = [[],[],[],[]]\n",
    "for j in range(len(gamma)):\n",
    "    for i in tqdm(range(itterations)):\n",
    "        wp, wm, Loss, TestLoss = train(wplus, wmin, x, y, Breal, xtest, ytest, steps, gamma[j], n, test, seed[i])\n",
    "        FinalLoss2[j].append(Loss[-1])\n",
    "        FinalTestLoss2[j].append(TestLoss[-1])"
   ]
  },
  {
   "cell_type": "code",
   "execution_count": 237,
   "metadata": {},
   "outputs": [
    {
     "name": "stdout",
     "output_type": "stream",
     "text": [
      "767.7152581758237\n",
      "4279.045043527632\n",
      "21449.575575720388\n",
      "59957.57906123782\n",
      "6.1463255410763e-07 7677.1525553445035\n",
      "3.8949911266129127e-07 27280.86838509076\n",
      "7.774558446558826e-08 214495.75574110757\n",
      "75.28368521895015 342702.51157200185\n"
     ]
    }
   ],
   "source": [
    "for j in range(len(gamma)):\n",
    "    print(np.mean(FinalTestLoss2[j]))\n",
    "    \n",
    "for j in range(len(gamma)):\n",
    "    print(np.min(FinalTestLoss2[j]),np.max(FinalTestLoss2[j]))"
   ]
  },
  {
   "cell_type": "code",
   "execution_count": 238,
   "metadata": {},
   "outputs": [
    {
     "data": {
      "text/plain": [
       "([4.303009104975804e-06,\n",
       "  1.1799967471263672e-06,\n",
       "  7677.1525553445035,\n",
       "  1.4217234686946143e-06,\n",
       "  8.766504880974356e-06,\n",
       "  2.0593763420851337e-06,\n",
       "  4.919586598718869e-06,\n",
       "  1.1739266133425388e-06,\n",
       "  1.9749767836525668e-06,\n",
       "  6.1463255410763e-07],\n",
       " [3.602177439348569e-06,\n",
       "  1.2730314138493318e-06,\n",
       "  27280.86838509076,\n",
       "  3.537982550285285e-06,\n",
       "  7.128496516671848e-06,\n",
       "  7148.748257805126,\n",
       "  4.958361059022241e-06,\n",
       "  3.8949911266129127e-07,\n",
       "  9.494954906083469e-07,\n",
       "  8360.833770541383],\n",
       " [1.115939802776286e-06,\n",
       "  9.505130873029808e-07,\n",
       "  2.545713223977592e-07,\n",
       "  2.2653882871334334e-06,\n",
       "  6.175078856274305e-06,\n",
       "  214495.75574110757,\n",
       "  4.508112802147014e-06,\n",
       "  3.3865063247183843e-07,\n",
       "  4.1029276277207616e-07,\n",
       "  7.774558446558826e-08],\n",
       " [259.86934568551766,\n",
       "  33226.20565816281,\n",
       "  342702.51157200185,\n",
       "  555.4354240399913,\n",
       "  75.28368521895015,\n",
       "  210.76138460222182,\n",
       "  6396.748470469447,\n",
       "  180.78247566883573,\n",
       "  212689.76966186237,\n",
       "  3278.422934666156])"
      ]
     },
     "execution_count": 238,
     "metadata": {},
     "output_type": "execute_result"
    }
   ],
   "source": [
    "FinalTestLoss2[0],FinalTestLoss2[1],FinalTestLoss2[2],FinalTestLoss2[3]"
   ]
  },
  {
   "cell_type": "code",
   "execution_count": 221,
   "metadata": {},
   "outputs": [
    {
     "data": {
      "image/png": "[encoded data removed]",
      "text/plain": [
       "<Figure size 640x480 with 1 Axes>"
      ]
     },
     "metadata": {},
     "output_type": "display_data"
    }
   ],
   "source": [
    "plt.hist(FinalLoss2, label = f'gamma = {gamma}', range = (0,0.001))\n",
    "    \n",
    "plt.ylabel('Amount of itterations')\n",
    "plt.xlabel('Training loss')\n",
    "plt.title('Histogram of the Training Loss Diag Net')\n",
    "\n",
    "plt.xlim(0, 0.000001)\n",
    "plt.ylim(0, 400)\n",
    "plt.legend()\n",
    "    \n",
    "plt.savefig(f'HistogramTrainingLossDiagNet{gamma}.png')\n",
    "plt.show()\n",
    "plt.close()"
   ]
  },
  {
   "cell_type": "code",
   "execution_count": 278,
   "metadata": {},
   "outputs": [],
   "source": [
    "# Setup training\n",
    "def trainDecay(wplus, wmin, x, y, Breal, xtest, ytest, steps, gamma, n, test, seed, decay_percentage, decay):\n",
    "    np.random.seed(seed)\n",
    "    Loss = []\n",
    "    TestLoss = []\n",
    "    \n",
    "    for j in range(steps):\n",
    "        \n",
    "        L = Forward(x, y, wplus, wmin,n)\n",
    "        Ltest = Forward(xtest, ytest, wplus, wmin,test)\n",
    "        \n",
    "        Loss.append(L)\n",
    "        if L > 1000000:\n",
    "            return(wplus, wmin, Loss, TestLoss)\n",
    "        TestLoss.append(Ltest)\n",
    "        \n",
    "        wplus, wmin = Backward(x, y, Breal, gamma, wplus, wmin)\n",
    "        \n",
    "        if j == int(decay_percentage*steps):\n",
    "            gamma = gamma/decay\n",
    "           \n",
    "    \n",
    "    return(wplus, wmin, Loss, TestLoss)"
   ]
  },
  {
   "cell_type": "code",
   "execution_count": 310,
   "metadata": {},
   "outputs": [
    {
     "name": "stderr",
     "output_type": "stream",
     "text": [
      "100%|██████████| 1000/1000 [03:38<00:00,  4.58it/s]\n",
      "100%|██████████| 1000/1000 [02:42<00:00,  6.15it/s]\n",
      "100%|██████████| 1000/1000 [01:50<00:00,  9.05it/s]\n",
      "100%|██████████| 1000/1000 [01:41<00:00,  9.85it/s]\n"
     ]
    }
   ],
   "source": [
    "itterations = 1000\n",
    "steps = 10000\n",
    "gamma = 0.11\n",
    "decay = 5\n",
    "decay_percentage = [0.1,0.2,0.5,0.7]\n",
    "seed = range(1, itterations + 1)\n",
    "FinalLoss3 = [[],[],[],[]]\n",
    "FinalTestLoss3 = [[],[],[],[]]\n",
    "for j in range(len(decay_percentage)):\n",
    "    for i in tqdm(range(itterations)):\n",
    "        wp, wm, Loss, TestLoss = trainDecay(wplus, wmin, x, y, Breal, xtest, ytest, steps, gamma, n, test, seed[i], decay_percentage[j],decay)\n",
    "        if Loss[-1] < 1000:\n",
    "            FinalLoss3[j].append(Loss[-1])\n",
    "            FinalTestLoss3[j].append(TestLoss[-1])"
   ]
  },
  {
   "cell_type": "code",
   "execution_count": 323,
   "metadata": {},
   "outputs": [
    {
     "name": "stdout",
     "output_type": "stream",
     "text": [
      "decay at 10.0% gives mean test loss 3.195564667693229e-05\n",
      "decay at 20.0% gives mean test loss 1.8545917773226224e-05\n",
      "decay at 50.0% gives mean test loss 1.1649261673359453e-05\n",
      "decay at 70.0% gives mean test loss 9.017866447329949e-06\n",
      "decay at 10.0% gives range test loss (6.131155084423353e-07, 0.00015699086656357385)\n",
      "decay at 20.0% gives range test loss (4.979558366760184e-10, 0.00013010972658081632)\n",
      "decay at 50.0% gives range test loss (1.0479141836496701e-09, 0.0001300227202348489)\n",
      "decay at 70.0% gives range test loss (1.0212639305546333e-09, 0.00011121869669212263)\n",
      "decay at 10.0% gives 300 converged itterations\n",
      "decay at 20.0% gives 186 converged itterations\n",
      "decay at 50.0% gives 74 converged itterations\n",
      "decay at 70.0% gives 41 converged itterations\n"
     ]
    }
   ],
   "source": [
    "# gamma = 0.011 which is less than the threshold\n",
    "for j in range(len(decay_percentage)):\n",
    "    print(f'decay at {100*decay_percentage[j]}% gives mean test loss {np.mean(FinalTestLoss3[j])}')\n",
    "    \n",
    "for j in range(len(decay_percentage)):\n",
    "    print(f'decay at {100*decay_percentage[j]}% gives range test loss {np.min(FinalTestLoss3[j]),np.max(FinalTestLoss3[j])}')\n",
    "\n",
    "for j in range(len(decay_percentage)):\n",
    "    print(f'decay at {100*decay_percentage[j]}% gives {len(FinalTestLoss3[j])} converged itterations')"
   ]
  },
  {
   "cell_type": "code",
   "execution_count": 335,
   "metadata": {},
   "outputs": [
    {
     "data": {
      "image/png": "[encoded data removed]",
      "text/plain": [
       "<Figure size 640x480 with 1 Axes>"
      ]
     },
     "metadata": {},
     "output_type": "display_data"
    }
   ],
   "source": [
    "for j in range(len(decay_percentage)):\n",
    "    plt.hist(FinalTestLoss3[j], label = f'eta = {0.11}, decay at {decay_percentage[j]}', range = (0,0.0001), bins = 100)\n",
    "    \n",
    "plt.ylabel('Amount of itterations')\n",
    "plt.xlabel('Test loss')\n",
    "plt.title('Histogram of the Test Loss Pesme')\n",
    "\n",
    "plt.xlim(0, 0.0001)\n",
    "plt.ylim(0, 20)\n",
    "plt.legend()\n",
    "    \n",
    "plt.savefig(f'HistogramTestLossdecayDiagLinNetgamma{0.11}decaypercentage{decay_percentage[j]}.png')\n",
    "plt.show()\n",
    "plt.close()\n",
    "#print(len(FinalLoss[0]), len(FinalLoss[1]),len(FinalLoss[2]),len(FinalLoss[3]))"
   ]
  },
  {
   "cell_type": "code",
   "execution_count": 313,
   "metadata": {},
   "outputs": [
    {
     "name": "stderr",
     "output_type": "stream",
     "text": [
      "100%|██████████| 1000/1000 [11:36<00:00,  1.44it/s]\n",
      "100%|██████████| 1000/1000 [12:50<00:00,  1.30it/s]\n",
      "100%|██████████| 1000/1000 [12:40<00:00,  1.31it/s]\n",
      "100%|██████████| 1000/1000 [16:03<00:00,  1.04it/s]\n"
     ]
    }
   ],
   "source": [
    "itterations = 1000\n",
    "steps = 10000\n",
    "gamma = 0.008\n",
    "decay = 5\n",
    "decay_percentage = [0.1,0.2,0.5,0.7]\n",
    "seed = range(1, itterations + 1)\n",
    "FinalLoss4 = [[],[],[],[]]\n",
    "FinalTestLoss4 = [[],[],[],[]]\n",
    "for j in range(len(decay_percentage)):\n",
    "    for i in tqdm(range(itterations)):\n",
    "        wp, wm, Loss, TestLoss = trainDecay(wplus, wmin, x, y, Breal, xtest, ytest, steps, gamma, n, test, seed[i], decay_percentage[j],decay)\n",
    "        if Loss[-1] < 1000:\n",
    "            FinalLoss4[j].append(Loss[-1])\n",
    "            FinalTestLoss4[j].append(TestLoss[-1])"
   ]
  },
  {
   "cell_type": "code",
   "execution_count": 324,
   "metadata": {},
   "outputs": [
    {
     "name": "stdout",
     "output_type": "stream",
     "text": [
      "decay at 10.0% gives mean test loss 0.04035664541606373\n",
      "decay at 20.0% gives mean test loss 0.02890764352103844\n",
      "decay at 50.0% gives mean test loss 0.015742519702363778\n",
      "decay at 70.0% gives mean test loss 0.012162683006396684\n",
      "decay at 10.0% gives range test loss (0.024290985415730146, 0.059372777307975536)\n",
      "decay at 20.0% gives range test loss (0.018172303598745176, 0.04040522223343128)\n",
      "decay at 50.0% gives range test loss (0.011715047959829226, 0.02056938291891487)\n",
      "decay at 70.0% gives range test loss (0.009898259047007975, 0.015042833094197676)\n",
      "decay at 10.0% gives 1000 converged itterations\n",
      "decay at 20.0% gives 1000 converged itterations\n",
      "decay at 50.0% gives 1000 converged itterations\n",
      "decay at 70.0% gives 1000 converged itterations\n"
     ]
    }
   ],
   "source": [
    "# gamma = 0.008 which is less than the threshold\n",
    "for j in range(len(decay_percentage)):\n",
    "    print(f'decay at {100*decay_percentage[j]}% gives mean test loss {np.mean(FinalTestLoss4[j])}')\n",
    "    \n",
    "for j in range(len(decay_percentage)):\n",
    "    print(f'decay at {100*decay_percentage[j]}% gives range test loss {np.min(FinalTestLoss4[j]),np.max(FinalTestLoss4[j])}')\n",
    "\n",
    "for j in range(len(decay_percentage)):\n",
    "    print(f'decay at {100*decay_percentage[j]}% gives {len(FinalTestLoss4[j])} converged itterations')"
   ]
  },
  {
   "cell_type": "code",
   "execution_count": 327,
   "metadata": {},
   "outputs": [
    {
     "data": {
      "text/plain": [
       "(1000, 1000, 1000)"
      ]
     },
     "execution_count": 327,
     "metadata": {},
     "output_type": "execute_result"
    }
   ],
   "source": [
    "np.sum(np.array(FinalTestLoss4[0]) > np.array(FinalTestLoss4[1])), np.sum(np.array(FinalTestLoss4[1]) > np.array(FinalTestLoss4[2])),np.sum(np.array(FinalTestLoss4[2]) > np.array(FinalTestLoss4[3]))"
   ]
  },
  {
   "cell_type": "code",
   "execution_count": null,
   "metadata": {},
   "outputs": [],
   "source": []
  }
 ],
 "metadata": {
  "kernelspec": {
   "display_name": "Python 3",
   "language": "python",
   "name": "python3"
  },
  "language_info": {
   "codemirror_mode": {
    "name": "ipython",
    "version": 3
   },
   "file_extension": ".py",
   "mimetype": "text/x-python",
   "name": "python",
   "nbconvert_exporter": "python",
   "pygments_lexer": "ipython3",
   "version": "3.8.5"
  }
 },
 "nbformat": 4,
 "nbformat_minor": 4
}
